{
  "nbformat": 4,
  "nbformat_minor": 0,
  "metadata": {
    "colab": {
      "provenance": [],
      "authorship_tag": "ABX9TyOJ9wt2yh80PfbLcqEVmQx6",
      "include_colab_link": true
    },
    "kernelspec": {
      "name": "python3",
      "display_name": "Python 3"
    },
    "language_info": {
      "name": "python"
    }
  },
  "cells": [
    {
      "cell_type": "markdown",
      "metadata": {
        "id": "view-in-github",
        "colab_type": "text"
      },
      "source": [
        "<a href=\"https://colab.research.google.com/github/jazzminegarg/Quantum-Computing/blob/main/Assignments/Assignment6.ipynb\" target=\"_parent\"><img src=\"https://colab.research.google.com/assets/colab-badge.svg\" alt=\"Open In Colab\"/></a>"
      ]
    },
    {
      "cell_type": "markdown",
      "source": [
        "SECTION - 1"
      ],
      "metadata": {
        "id": "ret0J4aUI5bf"
      }
    },
    {
      "source": [
        "!pip install qiskit==0.43.2"
      ],
      "cell_type": "code",
      "metadata": {
        "colab": {
          "base_uri": "https://localhost:8080/",
          "height": 1000
        },
        "id": "cfUYcPEzIz8R",
        "outputId": "435a98bc-c9c3-436e-a944-f446bfd4d09f"
      },
      "execution_count": 1,
      "outputs": [
        {
          "output_type": "stream",
          "name": "stdout",
          "text": [
            "Collecting qiskit==0.43.2\n",
            "  Downloading qiskit-0.43.2.tar.gz (9.1 kB)\n",
            "  Installing build dependencies ... \u001b[?25l\u001b[?25hdone\n",
            "  Getting requirements to build wheel ... \u001b[?25l\u001b[?25hdone\n",
            "  Preparing metadata (pyproject.toml) ... \u001b[?25l\u001b[?25hdone\n",
            "Collecting qiskit-terra==0.24.1 (from qiskit==0.43.2)\n",
            "  Downloading qiskit_terra-0.24.1-cp311-cp311-manylinux_2_17_x86_64.manylinux2014_x86_64.whl.metadata (9.6 kB)\n",
            "Collecting qiskit-aer==0.12.1 (from qiskit==0.43.2)\n",
            "  Downloading qiskit_aer-0.12.1-cp311-cp311-manylinux_2_17_x86_64.manylinux2014_x86_64.whl.metadata (6.2 kB)\n",
            "Collecting qiskit-ibmq-provider==0.20.2 (from qiskit==0.43.2)\n",
            "  Downloading qiskit_ibmq_provider-0.20.2-py3-none-any.whl.metadata (14 kB)\n",
            "Requirement already satisfied: numpy>=1.16.3 in /usr/local/lib/python3.11/dist-packages (from qiskit-aer==0.12.1->qiskit==0.43.2) (2.0.2)\n",
            "Requirement already satisfied: scipy>=1.0 in /usr/local/lib/python3.11/dist-packages (from qiskit-aer==0.12.1->qiskit==0.43.2) (1.14.1)\n",
            "Requirement already satisfied: requests>=2.19 in /usr/local/lib/python3.11/dist-packages (from qiskit-ibmq-provider==0.20.2->qiskit==0.43.2) (2.32.3)\n",
            "Collecting requests-ntlm<=1.1.0 (from qiskit-ibmq-provider==0.20.2->qiskit==0.43.2)\n",
            "  Downloading requests_ntlm-1.1.0-py2.py3-none-any.whl.metadata (938 bytes)\n",
            "Collecting numpy>=1.16.3 (from qiskit-aer==0.12.1->qiskit==0.43.2)\n",
            "  Downloading numpy-1.23.5-cp311-cp311-manylinux_2_17_x86_64.manylinux2014_x86_64.whl.metadata (2.3 kB)\n",
            "Requirement already satisfied: urllib3>=1.21.1 in /usr/local/lib/python3.11/dist-packages (from qiskit-ibmq-provider==0.20.2->qiskit==0.43.2) (2.3.0)\n",
            "Requirement already satisfied: python-dateutil>=2.8.0 in /usr/local/lib/python3.11/dist-packages (from qiskit-ibmq-provider==0.20.2->qiskit==0.43.2) (2.8.2)\n",
            "Requirement already satisfied: websocket-client>=1.5.1 in /usr/local/lib/python3.11/dist-packages (from qiskit-ibmq-provider==0.20.2->qiskit==0.43.2) (1.8.0)\n",
            "Requirement already satisfied: websockets>=10.0 in /usr/local/lib/python3.11/dist-packages (from qiskit-ibmq-provider==0.20.2->qiskit==0.43.2) (15.0.1)\n",
            "Collecting rustworkx>=0.12.0 (from qiskit-terra==0.24.1->qiskit==0.43.2)\n",
            "  Downloading rustworkx-0.16.0-cp39-abi3-manylinux_2_17_x86_64.manylinux2014_x86_64.whl.metadata (10 kB)\n",
            "Requirement already satisfied: ply>=3.10 in /usr/local/lib/python3.11/dist-packages (from qiskit-terra==0.24.1->qiskit==0.43.2) (3.11)\n",
            "Requirement already satisfied: psutil>=5 in /usr/local/lib/python3.11/dist-packages (from qiskit-terra==0.24.1->qiskit==0.43.2) (5.9.5)\n",
            "Requirement already satisfied: sympy>=1.3 in /usr/local/lib/python3.11/dist-packages (from qiskit-terra==0.24.1->qiskit==0.43.2) (1.13.1)\n",
            "Collecting dill>=0.3 (from qiskit-terra==0.24.1->qiskit==0.43.2)\n",
            "  Downloading dill-0.4.0-py3-none-any.whl.metadata (10 kB)\n",
            "Collecting stevedore>=3.0.0 (from qiskit-terra==0.24.1->qiskit==0.43.2)\n",
            "  Downloading stevedore-5.4.1-py3-none-any.whl.metadata (2.3 kB)\n",
            "Collecting symengine<0.10,>=0.9 (from qiskit-terra==0.24.1->qiskit==0.43.2)\n",
            "  Downloading symengine-0.9.2-cp311-cp311-manylinux_2_12_x86_64.manylinux2010_x86_64.whl.metadata (1.1 kB)\n",
            "Requirement already satisfied: six>=1.5 in /usr/local/lib/python3.11/dist-packages (from python-dateutil>=2.8.0->qiskit-ibmq-provider==0.20.2->qiskit==0.43.2) (1.17.0)\n",
            "Requirement already satisfied: charset-normalizer<4,>=2 in /usr/local/lib/python3.11/dist-packages (from requests>=2.19->qiskit-ibmq-provider==0.20.2->qiskit==0.43.2) (3.4.1)\n",
            "Requirement already satisfied: idna<4,>=2.5 in /usr/local/lib/python3.11/dist-packages (from requests>=2.19->qiskit-ibmq-provider==0.20.2->qiskit==0.43.2) (3.10)\n",
            "Requirement already satisfied: certifi>=2017.4.17 in /usr/local/lib/python3.11/dist-packages (from requests>=2.19->qiskit-ibmq-provider==0.20.2->qiskit==0.43.2) (2025.1.31)\n",
            "Collecting ntlm-auth>=1.0.2 (from requests-ntlm<=1.1.0->qiskit-ibmq-provider==0.20.2->qiskit==0.43.2)\n",
            "  Downloading ntlm_auth-1.5.0-py2.py3-none-any.whl.metadata (10 kB)\n",
            "Requirement already satisfied: cryptography>=1.3 in /usr/local/lib/python3.11/dist-packages (from requests-ntlm<=1.1.0->qiskit-ibmq-provider==0.20.2->qiskit==0.43.2) (43.0.3)\n",
            "Collecting pbr>=2.0.0 (from stevedore>=3.0.0->qiskit-terra==0.24.1->qiskit==0.43.2)\n",
            "  Downloading pbr-6.1.1-py2.py3-none-any.whl.metadata (3.4 kB)\n",
            "Requirement already satisfied: mpmath<1.4,>=1.1.0 in /usr/local/lib/python3.11/dist-packages (from sympy>=1.3->qiskit-terra==0.24.1->qiskit==0.43.2) (1.3.0)\n",
            "Requirement already satisfied: cffi>=1.12 in /usr/local/lib/python3.11/dist-packages (from cryptography>=1.3->requests-ntlm<=1.1.0->qiskit-ibmq-provider==0.20.2->qiskit==0.43.2) (1.17.1)\n",
            "Requirement already satisfied: setuptools in /usr/local/lib/python3.11/dist-packages (from pbr>=2.0.0->stevedore>=3.0.0->qiskit-terra==0.24.1->qiskit==0.43.2) (75.2.0)\n",
            "Requirement already satisfied: pycparser in /usr/local/lib/python3.11/dist-packages (from cffi>=1.12->cryptography>=1.3->requests-ntlm<=1.1.0->qiskit-ibmq-provider==0.20.2->qiskit==0.43.2) (2.22)\n",
            "Downloading qiskit_aer-0.12.1-cp311-cp311-manylinux_2_17_x86_64.manylinux2014_x86_64.whl (12.8 MB)\n",
            "\u001b[2K   \u001b[90m━━━━━━━━━━━━━━━━━━━━━━━━━━━━━━━━━━━━━━━━\u001b[0m \u001b[32m12.8/12.8 MB\u001b[0m \u001b[31m55.0 MB/s\u001b[0m eta \u001b[36m0:00:00\u001b[0m\n",
            "\u001b[?25hDownloading qiskit_ibmq_provider-0.20.2-py3-none-any.whl (241 kB)\n",
            "\u001b[2K   \u001b[90m━━━━━━━━━━━━━━━━━━━━━━━━━━━━━━━━━━━━━━━━\u001b[0m \u001b[32m241.5/241.5 kB\u001b[0m \u001b[31m14.7 MB/s\u001b[0m eta \u001b[36m0:00:00\u001b[0m\n",
            "\u001b[?25hDownloading qiskit_terra-0.24.1-cp311-cp311-manylinux_2_17_x86_64.manylinux2014_x86_64.whl (5.9 MB)\n",
            "\u001b[2K   \u001b[90m━━━━━━━━━━━━━━━━━━━━━━━━━━━━━━━━━━━━━━━━\u001b[0m \u001b[32m5.9/5.9 MB\u001b[0m \u001b[31m77.4 MB/s\u001b[0m eta \u001b[36m0:00:00\u001b[0m\n",
            "\u001b[?25hDownloading dill-0.4.0-py3-none-any.whl (119 kB)\n",
            "\u001b[2K   \u001b[90m━━━━━━━━━━━━━━━━━━━━━━━━━━━━━━━━━━━━━━━━\u001b[0m \u001b[32m119.7/119.7 kB\u001b[0m \u001b[31m9.0 MB/s\u001b[0m eta \u001b[36m0:00:00\u001b[0m\n",
            "\u001b[?25hDownloading numpy-1.23.5-cp311-cp311-manylinux_2_17_x86_64.manylinux2014_x86_64.whl (17.1 MB)\n",
            "\u001b[2K   \u001b[90m━━━━━━━━━━━━━━━━━━━━━━━━━━━━━━━━━━━━━━━━\u001b[0m \u001b[32m17.1/17.1 MB\u001b[0m \u001b[31m68.2 MB/s\u001b[0m eta \u001b[36m0:00:00\u001b[0m\n",
            "\u001b[?25hDownloading requests_ntlm-1.1.0-py2.py3-none-any.whl (5.7 kB)\n",
            "Downloading rustworkx-0.16.0-cp39-abi3-manylinux_2_17_x86_64.manylinux2014_x86_64.whl (2.1 MB)\n",
            "\u001b[2K   \u001b[90m━━━━━━━━━━━━━━━━━━━━━━━━━━━━━━━━━━━━━━━━\u001b[0m \u001b[32m2.1/2.1 MB\u001b[0m \u001b[31m13.7 MB/s\u001b[0m eta \u001b[36m0:00:00\u001b[0m\n",
            "\u001b[?25hDownloading stevedore-5.4.1-py3-none-any.whl (49 kB)\n",
            "\u001b[2K   \u001b[90m━━━━━━━━━━━━━━━━━━━━━━━━━━━━━━━━━━━━━━━━\u001b[0m \u001b[32m49.5/49.5 kB\u001b[0m \u001b[31m3.0 MB/s\u001b[0m eta \u001b[36m0:00:00\u001b[0m\n",
            "\u001b[?25hDownloading symengine-0.9.2-cp311-cp311-manylinux_2_12_x86_64.manylinux2010_x86_64.whl (38.6 MB)\n",
            "\u001b[2K   \u001b[90m━━━━━━━━━━━━━━━━━━━━━━━━━━━━━━━━━━━━━━━━\u001b[0m \u001b[32m38.6/38.6 MB\u001b[0m \u001b[31m17.1 MB/s\u001b[0m eta \u001b[36m0:00:00\u001b[0m\n",
            "\u001b[?25hDownloading ntlm_auth-1.5.0-py2.py3-none-any.whl (29 kB)\n",
            "Downloading pbr-6.1.1-py2.py3-none-any.whl (108 kB)\n",
            "\u001b[2K   \u001b[90m━━━━━━━━━━━━━━━━━━━━━━━━━━━━━━━━━━━━━━━━\u001b[0m \u001b[32m109.0/109.0 kB\u001b[0m \u001b[31m6.7 MB/s\u001b[0m eta \u001b[36m0:00:00\u001b[0m\n",
            "\u001b[?25hBuilding wheels for collected packages: qiskit\n",
            "  Building wheel for qiskit (pyproject.toml) ... \u001b[?25l\u001b[?25hdone\n",
            "  Created wheel for qiskit: filename=qiskit-0.43.2-py3-none-any.whl size=7755 sha256=0a08e6ea86599467691dc26142eec344b3f237b813cf106e2df2dbfb5c2ceaf8\n",
            "  Stored in directory: /root/.cache/pip/wheels/b8/ca/bc/9869caae2195568d92b599bfc9b89d1059bdc84b4b74e1fc31\n",
            "Successfully built qiskit\n",
            "Installing collected packages: symengine, pbr, numpy, ntlm-auth, dill, stevedore, rustworkx, requests-ntlm, qiskit-terra, qiskit-ibmq-provider, qiskit-aer, qiskit\n",
            "  Attempting uninstall: numpy\n",
            "    Found existing installation: numpy 2.0.2\n",
            "    Uninstalling numpy-2.0.2:\n",
            "      Successfully uninstalled numpy-2.0.2\n",
            "\u001b[31mERROR: pip's dependency resolver does not currently take into account all the packages that are installed. This behaviour is the source of the following dependency conflicts.\n",
            "thinc 8.3.6 requires numpy<3.0.0,>=2.0.0, but you have numpy 1.23.5 which is incompatible.\n",
            "chex 0.1.89 requires numpy>=1.24.1, but you have numpy 1.23.5 which is incompatible.\n",
            "xarray 2025.1.2 requires numpy>=1.24, but you have numpy 1.23.5 which is incompatible.\n",
            "bigframes 1.42.0 requires numpy>=1.24.0, but you have numpy 1.23.5 which is incompatible.\n",
            "albumentations 2.0.5 requires numpy>=1.24.4, but you have numpy 1.23.5 which is incompatible.\n",
            "scikit-image 0.25.2 requires numpy>=1.24, but you have numpy 1.23.5 which is incompatible.\n",
            "jax 0.5.2 requires numpy>=1.25, but you have numpy 1.23.5 which is incompatible.\n",
            "albucore 0.0.23 requires numpy>=1.24.4, but you have numpy 1.23.5 which is incompatible.\n",
            "blosc2 3.3.0 requires numpy>=1.26, but you have numpy 1.23.5 which is incompatible.\n",
            "jaxlib 0.5.1 requires numpy>=1.25, but you have numpy 1.23.5 which is incompatible.\n",
            "treescope 0.1.9 requires numpy>=1.25.2, but you have numpy 1.23.5 which is incompatible.\n",
            "imbalanced-learn 0.13.0 requires numpy<3,>=1.24.3, but you have numpy 1.23.5 which is incompatible.\n",
            "pymc 5.21.2 requires numpy>=1.25.0, but you have numpy 1.23.5 which is incompatible.\n",
            "tensorflow 2.18.0 requires numpy<2.1.0,>=1.26.0, but you have numpy 1.23.5 which is incompatible.\u001b[0m\u001b[31m\n",
            "\u001b[0mSuccessfully installed dill-0.4.0 ntlm-auth-1.5.0 numpy-1.23.5 pbr-6.1.1 qiskit-0.43.2 qiskit-aer-0.12.1 qiskit-ibmq-provider-0.20.2 qiskit-terra-0.24.1 requests-ntlm-1.1.0 rustworkx-0.16.0 stevedore-5.4.1 symengine-0.9.2\n"
          ]
        },
        {
          "output_type": "display_data",
          "data": {
            "application/vnd.colab-display-data+json": {
              "pip_warning": {
                "packages": [
                  "numpy"
                ]
              },
              "id": "1db0846daeea460b9d4a1f04e5c5d9f8"
            }
          },
          "metadata": {}
        }
      ]
    },
    {
      "source": [
        "from qiskit import QuantumCircuit, Aer, execute\n",
        "from qiskit.visualization import plot_histogram"
      ],
      "cell_type": "code",
      "metadata": {
        "id": "0TJSwUxHI3A4"
      },
      "execution_count": 1,
      "outputs": []
    },
    {
      "source": [
        "# Create a quantum circuit with 2 qubits\n",
        "qc = QuantumCircuit(2, 2)\n",
        "\n",
        "# Create an entangled Bell pair\n",
        "qc.h(0)\n",
        "qc.cx(0, 1)\n",
        "\n",
        "# Encode the message (e.g., 10)\n",
        "message = '10'\n",
        "if message[0] == '1':\n",
        "    qc.z(0)\n",
        "if message[1] == '1':\n",
        "    qc.x(0)\n",
        "\n",
        "# Decode the message\n",
        "qc.cx(0, 1)\n",
        "qc.h(0)\n",
        "\n",
        "# Measure the qubits\n",
        "qc.measure([0, 1], [0, 1])\n",
        "\n",
        "# Display the circuit\n",
        "qc.draw()"
      ],
      "cell_type": "code",
      "metadata": {
        "colab": {
          "base_uri": "https://localhost:8080/",
          "height": 125
        },
        "id": "d8fKARtfJDLp",
        "outputId": "0cca142b-4605-4fc4-e3e2-7240c5291fc9"
      },
      "execution_count": 2,
      "outputs": [
        {
          "output_type": "execute_result",
          "data": {
            "text/plain": [
              "     ┌───┐     ┌───┐     ┌───┐┌─┐\n",
              "q_0: ┤ H ├──■──┤ Z ├──■──┤ H ├┤M├\n",
              "     └───┘┌─┴─┐└───┘┌─┴─┐└┬─┬┘└╥┘\n",
              "q_1: ─────┤ X ├─────┤ X ├─┤M├──╫─\n",
              "          └───┘     └───┘ └╥┘  ║ \n",
              "c: 2/══════════════════════╩═══╩═\n",
              "                           1   0 "
            ],
            "text/html": [
              "<pre style=\"word-wrap: normal;white-space: pre;background: #fff0;line-height: 1.1;font-family: &quot;Courier New&quot;,Courier,monospace\">     ┌───┐     ┌───┐     ┌───┐┌─┐\n",
              "q_0: ┤ H ├──■──┤ Z ├──■──┤ H ├┤M├\n",
              "     └───┘┌─┴─┐└───┘┌─┴─┐└┬─┬┘└╥┘\n",
              "q_1: ─────┤ X ├─────┤ X ├─┤M├──╫─\n",
              "          └───┘     └───┘ └╥┘  ║ \n",
              "c: 2/══════════════════════╩═══╩═\n",
              "                           1   0 </pre>"
            ]
          },
          "metadata": {},
          "execution_count": 2
        }
      ]
    },
    {
      "source": [
        "# Use the Aer simulator\n",
        "simulator = Aer.get_backend('qasm_simulator')\n",
        "\n",
        "# Execute the circuit\n",
        "job = execute(qc, simulator, shots=1024)\n",
        "result = job.result()\n",
        "\n",
        "# Get the counts\n",
        "counts = result.get_counts(qc)\n",
        "\n",
        "# Display the results\n",
        "print(counts)\n",
        "plot_histogram(counts)"
      ],
      "cell_type": "code",
      "metadata": {
        "colab": {
          "base_uri": "https://localhost:8080/",
          "height": 468
        },
        "id": "ByGNh3G_JFPx",
        "outputId": "0d840d9b-0be0-42f6-a825-69be232101a7"
      },
      "execution_count": 3,
      "outputs": [
        {
          "output_type": "stream",
          "name": "stdout",
          "text": [
            "{'01': 1024}\n"
          ]
        },
        {
          "output_type": "execute_result",
          "data": {
            "text/plain": [
              "<Figure size 700x500 with 1 Axes>"
            ],
            "image/png": "[encoded data removed]"
          },
          "metadata": {},
          "execution_count": 3
        }
      ]
    },
    {
      "cell_type": "markdown",
      "source": [
        "SECTION - 2"
      ],
      "metadata": {
        "id": "EkiNZH-BJHDO"
      }
    },
    {
      "source": [
        "# Create a quantum circuit with 3 qubits\n",
        "qc = QuantumCircuit(3, 3)\n",
        "\n",
        "# Create the state to be teleported (e.g., |+>)\n",
        "qc.h(0)\n",
        "\n",
        "# Create an entangled Bell pair between qubits 1 and 2\n",
        "qc.h(1)\n",
        "qc.cx(1, 2)\n",
        "\n",
        "# Bell measurement on qubits 0 and 1\n",
        "qc.cx(0, 1)\n",
        "qc.h(0)\n",
        "\n",
        "# Apply controlled gates on qubit 2 based on measurement outcomes\n",
        "qc.cx(1, 2)\n",
        "qc.cz(0, 2)\n",
        "\n",
        "# Measure qubits 0 and 1\n",
        "qc.measure([0, 1], [0, 1])\n",
        "\n",
        "# Display the circuit\n",
        "qc.draw()"
      ],
      "cell_type": "code",
      "metadata": {
        "colab": {
          "base_uri": "https://localhost:8080/",
          "height": 156
        },
        "id": "QAjdNIzlJKnd",
        "outputId": "95309b11-66a6-42d8-e7d6-dd737237ac37"
      },
      "execution_count": 4,
      "outputs": [
        {
          "output_type": "execute_result",
          "data": {
            "text/plain": [
              "     ┌───┐          ┌───┐      ┌─┐\n",
              "q_0: ┤ H ├───────■──┤ H ├─■────┤M├\n",
              "     ├───┤     ┌─┴─┐└───┘ │ ┌─┐└╥┘\n",
              "q_1: ┤ H ├──■──┤ X ├──■───┼─┤M├─╫─\n",
              "     └───┘┌─┴─┐└───┘┌─┴─┐ │ └╥┘ ║ \n",
              "q_2: ─────┤ X ├─────┤ X ├─■──╫──╫─\n",
              "          └───┘     └───┘    ║  ║ \n",
              "c: 3/════════════════════════╩══╩═\n",
              "                             1  0 "
            ],
            "text/html": [
              "<pre style=\"word-wrap: normal;white-space: pre;background: #fff0;line-height: 1.1;font-family: &quot;Courier New&quot;,Courier,monospace\">     ┌───┐          ┌───┐      ┌─┐\n",
              "q_0: ┤ H ├───────■──┤ H ├─■────┤M├\n",
              "     ├───┤     ┌─┴─┐└───┘ │ ┌─┐└╥┘\n",
              "q_1: ┤ H ├──■──┤ X ├──■───┼─┤M├─╫─\n",
              "     └───┘┌─┴─┐└───┘┌─┴─┐ │ └╥┘ ║ \n",
              "q_2: ─────┤ X ├─────┤ X ├─■──╫──╫─\n",
              "          └───┘     └───┘    ║  ║ \n",
              "c: 3/════════════════════════╩══╩═\n",
              "                             1  0 </pre>"
            ]
          },
          "metadata": {},
          "execution_count": 4
        }
      ]
    },
    {
      "source": [
        "# Use the Aer simulator\n",
        "simulator = Aer.get_backend('qasm_simulator')\n",
        "\n",
        "# Execute the circuit\n",
        "job = execute(qc, simulator, shots=1024)\n",
        "result = job.result()\n",
        "\n",
        "# Get the counts\n",
        "counts = result.get_counts(qc)\n",
        "\n",
        "# Display the results\n",
        "print(counts)\n",
        "plot_histogram(counts)"
      ],
      "cell_type": "code",
      "metadata": {
        "colab": {
          "base_uri": "https://localhost:8080/",
          "height": 487
        },
        "id": "JJVW5s53JMK5",
        "outputId": "65ec27e7-e24a-4506-acca-ed6f9ee9f1e5"
      },
      "execution_count": 5,
      "outputs": [
        {
          "output_type": "stream",
          "name": "stdout",
          "text": [
            "{'011': 253, '010': 267, '000': 242, '001': 262}\n"
          ]
        },
        {
          "output_type": "execute_result",
          "data": {
            "text/plain": [
              "<Figure size 700x500 with 1 Axes>"
            ],
            "image/png": "[encoded data removed]"
          },
          "metadata": {},
          "execution_count": 5
        }
      ]
    },
    {
      "cell_type": "markdown",
      "source": [
        "SECTION - 3"
      ],
      "metadata": {
        "id": "xTNNieDLJN3d"
      }
    },
    {
      "source": [
        "# Create a quantum circuit with 2 qubits\n",
        "qc = QuantumCircuit(2)\n",
        "\n",
        "# Apply Hadamard to the target qubit (to put it in superposition)\n",
        "qc.h(1)\n",
        "\n",
        "# Apply controlled-phase gate (CZ) with target as control and control as target\n",
        "qc.cz(1, 0)  # This acts like a reverse CNOT\n",
        "\n",
        "# Apply Hadamard to the target qubit again\n",
        "qc.h(1)\n",
        "\n",
        "# Display the circuit\n",
        "qc.draw()"
      ],
      "cell_type": "code",
      "metadata": {
        "colab": {
          "base_uri": "https://localhost:8080/",
          "height": 94
        },
        "id": "dn7ZSK9yJQ6d",
        "outputId": "9ec2a5f3-25d5-4485-8863-d50fd85000b0"
      },
      "execution_count": 6,
      "outputs": [
        {
          "output_type": "execute_result",
          "data": {
            "text/plain": [
              "                  \n",
              "q_0: ──────■──────\n",
              "     ┌───┐ │ ┌───┐\n",
              "q_1: ┤ H ├─■─┤ H ├\n",
              "     └───┘   └───┘"
            ],
            "text/html": [
              "<pre style=\"word-wrap: normal;white-space: pre;background: #fff0;line-height: 1.1;font-family: &quot;Courier New&quot;,Courier,monospace\">                  \n",
              "q_0: ──────■──────\n",
              "     ┌───┐ │ ┌───┐\n",
              "q_1: ┤ H ├─■─┤ H ├\n",
              "     └───┘   └───┘</pre>"
            ]
          },
          "metadata": {},
          "execution_count": 6
        }
      ]
    },
    {
      "source": [
        "import numpy as np\n",
        "# Create a quantum circuit with 2 qubits\n",
        "qc = QuantumCircuit(2)\n",
        "\n",
        "# Apply Hadamard to the control qubit\n",
        "qc.h(0)\n",
        "\n",
        "# Apply T-gate to the target qubit\n",
        "qc.t(1)\n",
        "\n",
        "# Apply controlled-T gate (with target as control)\n",
        "qc.cp(np.pi/4, 1, 0)  # Controlled-T gate using cp\n",
        "\n",
        "# Apply Hadamard to the control qubit\n",
        "qc.h(0)\n",
        "\n",
        "# Display the circuit\n",
        "qc.draw()"
      ],
      "cell_type": "code",
      "metadata": {
        "colab": {
          "base_uri": "https://localhost:8080/",
          "height": 94
        },
        "id": "RrpUlCryJSVz",
        "outputId": "acf69a9d-d267-4393-90c6-3ef7368663fe"
      },
      "execution_count": 9,
      "outputs": [
        {
          "output_type": "execute_result",
          "data": {
            "text/plain": [
              "     ┌───┐         ┌───┐\n",
              "q_0: ┤ H ├─■───────┤ H ├\n",
              "     ├───┤ │P(π/4) └───┘\n",
              "q_1: ┤ T ├─■────────────\n",
              "     └───┘              "
            ],
            "text/html": [
              "<pre style=\"word-wrap: normal;white-space: pre;background: #fff0;line-height: 1.1;font-family: &quot;Courier New&quot;,Courier,monospace\">     ┌───┐         ┌───┐\n",
              "q_0: ┤ H ├─■───────┤ H ├\n",
              "     ├───┤ │P(π/4) └───┘\n",
              "q_1: ┤ T ├─■────────────\n",
              "     └───┘              </pre>"
            ]
          },
          "metadata": {},
          "execution_count": 9
        }
      ]
    }
  ]
}