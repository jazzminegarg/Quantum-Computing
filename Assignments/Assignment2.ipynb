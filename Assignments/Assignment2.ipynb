{
  "nbformat": 4,
  "nbformat_minor": 0,
  "metadata": {
    "colab": {
      "provenance": [],
      "authorship_tag": "ABX9TyPEdBs41UtuyCkGesvC6bkW",
      "include_colab_link": true
    },
    "kernelspec": {
      "name": "python3",
      "display_name": "Python 3"
    },
    "language_info": {
      "name": "python"
    }
  },
  "cells": [
    {
      "cell_type": "markdown",
      "metadata": {
        "id": "view-in-github",
        "colab_type": "text"
      },
      "source": [
        "<a href=\"https://colab.research.google.com/github/jazzminegarg/Quantum-Computing/blob/main/Assignments/Assignment2.ipynb\" target=\"_parent\"><img src=\"https://colab.research.google.com/assets/colab-badge.svg\" alt=\"Open In Colab\"/></a>"
      ]
    },
    {
      "cell_type": "markdown",
      "source": [
        "SECTION - 5 (other sections are to be done in the composer)"
      ],
      "metadata": {
        "id": "k99lqv97_sqh"
      }
    },
    {
      "source": [
        "import cmath\n",
        "\n",
        "# Convert to polar form\n",
        "z = 2 + 3j  # Complex number in rectangular form\n",
        "polar_form = cmath.polar(z)\n",
        "print(polar_form)  # Output: (3.605551275463989, 0.982793723247329)\n",
        "# Output is (magnitude, phase in radians)\n",
        "\n",
        "\n",
        "# Convert back to rectangular form\n",
        "magnitude, phase = polar_form\n",
        "rectangular_form = cmath.rect(magnitude, phase)\n",
        "print(rectangular_form)  # Output: (2+3j)"
      ],
      "cell_type": "code",
      "metadata": {
        "colab": {
          "base_uri": "https://localhost:8080/"
        },
        "id": "t3Zlg79q_nDz",
        "outputId": "2aa406db-197b-4ba9-d108-94658feeeacd"
      },
      "execution_count": 1,
      "outputs": [
        {
          "output_type": "stream",
          "name": "stdout",
          "text": [
            "(3.605551275463989, 0.982793723247329)\n",
            "(2+3j)\n"
          ]
        }
      ]
    }
  ]
}