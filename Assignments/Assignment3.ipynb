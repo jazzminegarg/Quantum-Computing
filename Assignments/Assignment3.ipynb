{
  "nbformat": 4,
  "nbformat_minor": 0,
  "metadata": {
    "colab": {
      "provenance": [],
      "authorship_tag": "ABX9TyPh6omSwgmTs8wYflos5yM+",
      "include_colab_link": true
    },
    "kernelspec": {
      "name": "python3",
      "display_name": "Python 3"
    },
    "language_info": {
      "name": "python"
    }
  },
  "cells": [
    {
      "cell_type": "markdown",
      "metadata": {
        "id": "view-in-github",
        "colab_type": "text"
      },
      "source": [
        "<a href=\"https://colab.research.google.com/github/jazzminegarg/Quantum-Computing/blob/main/Assignment3.ipynb\" target=\"_parent\"><img src=\"https://colab.research.google.com/assets/colab-badge.svg\" alt=\"Open In Colab\"/></a>"
      ]
    },
    {
      "cell_type": "markdown",
      "source": [
        "SECTION - 1"
      ],
      "metadata": {
        "id": "h15a4gmbHsqP"
      }
    },
    {
      "source": [
        "# qasm\n",
        "# // Bell state 1: |ψ1⟩ = 1/√2(|00⟩ + |11⟩)\n",
        "# OPENQASM 2.0;\n",
        "# include \"qelib1.inc\";\n",
        "# qreg q[2];\n",
        "# creg c[2];\n",
        "# h q[0];\n",
        "# cx q[0],q[1];\n",
        "# measure q[0] -> c[0];\n",
        "# measure q[1] -> c[1];\n",
        "\n",
        "\n",
        "# // Bell state 2: |ψ2⟩ = 1/√2(|00⟩ - |11⟩)\n",
        "# OPENQASM 2.0;\n",
        "# include \"qelib1.inc\";\n",
        "# qreg q[2];\n",
        "# creg c[2];\n",
        "# h q[0];\n",
        "# z q[0];\n",
        "# cx q[0],q[1];\n",
        "# measure q[0] -> c[0];\n",
        "# measure q[1] -> c[1];\n",
        "\n",
        "\n",
        "# // Bell state 3: |ψ3⟩ = 1/√2(|01⟩ + |10⟩)\n",
        "# OPENQASM 2.0;\n",
        "# include \"qelib1.inc\";\n",
        "# qreg q[2];\n",
        "# creg c[2];\n",
        "# h q[0];\n",
        "# x q[1];\n",
        "# cx q[0],q[1];\n",
        "# measure q[0] -> c[0];\n",
        "# measure q[1] -> c[1];\n",
        "\n",
        "\n",
        "# // Bell state 4: |ψ4⟩ = 1/√2(|01⟩ - |10⟩)\n",
        "# OPENQASM 2.0;\n",
        "# include \"qelib1.inc\";\n",
        "# qreg q[2];\n",
        "# creg c[2];\n",
        "# h q[0];\n",
        "# x q[1];\n",
        "# z q[0];\n",
        "# cx q[0],q[1];\n",
        "# measure q[0] -> c[0];\n",
        "# measure q[1] -> c[1];\n",
        "\n",
        "\n",
        "# // Bell state 5: |ψ5⟩ = 1/√2(|000⟩ + |111⟩)\n",
        "# OPENQASM 2.0;\n",
        "# include \"qelib1.inc\";\n",
        "# qreg q[3];\n",
        "# creg c[3];\n",
        "# h q[0];\n",
        "# cx q[0],q[1];\n",
        "# cx q[1],q[2];\n",
        "# measure q[0] -> c[0];\n",
        "# measure q[1] -> c[1];\n",
        "# measure q[2] -> c[2];\n",
        "\n",
        "\n",
        "# // Bell state 6: |ψ6⟩ = 1/√2(|000⟩ - |111⟩)\n",
        "# OPENQASM 2.0;\n",
        "# include \"qelib1.inc\";\n",
        "# qreg q[3];\n",
        "# creg c[3];\n",
        "# h q[0];\n",
        "# z q[0];\n",
        "# cx q[0],q[1];\n",
        "# cx q[1],q[2];\n",
        "# measure q[0] -> c[0];\n",
        "# measure q[1] -> c[1];\n",
        "# measure q[2] -> c[2];"
      ],
      "cell_type": "code",
      "metadata": {
        "id": "72scW0dLHvqa"
      },
      "execution_count": null,
      "outputs": []
    },
    {
      "cell_type": "markdown",
      "source": [
        "SECTION - 2"
      ],
      "metadata": {
        "id": "J1o7KG0mHzF1"
      }
    },
    {
      "source": [
        "# qasm\n",
        "# OPENQASM 2.0;\n",
        "# include \"qelib1.inc\";\n",
        "# qreg q[5];\n",
        "# creg c[5];\n",
        "\n",
        "# // Three control qubits: q[0], q[1], q[2]\n",
        "# // Target qubit: q[3]\n",
        "# // Ancilla qubit: q[4]\n",
        "\n",
        "# // First Toffoli: if q[0] and q[1] are 1, flip q[4]\n",
        "# ccx q[0],q[1],q[4];\n",
        "\n",
        "# // Second Toffoli: if q[2] and q[4] are 1, flip q[3]\n",
        "# ccx q[2],q[4],q[3];\n",
        "\n",
        "# // Reset ancilla qubit\n",
        "# ccx q[0],q[1],q[4];\n",
        "\n",
        "# measure q[0] -> c[0];\n",
        "# measure q[1] -> c[1];\n",
        "# measure q[2] -> c[2];\n",
        "# measure q[3] -> c[3];"
      ],
      "cell_type": "code",
      "metadata": {
        "id": "zyk4HIAmH2vK"
      },
      "execution_count": null,
      "outputs": []
    },
    {
      "cell_type": "markdown",
      "source": [
        "SECTION - 3"
      ],
      "metadata": {
        "id": "cJsA2-zmH4bn"
      }
    },
    {
      "cell_type": "markdown",
      "source": [
        "TOFOLLI AS AND\n"
      ],
      "metadata": {
        "id": "HpeVFi1TIF-w"
      }
    },
    {
      "source": [
        "# qasm\n",
        "# OPENQASM 2.0;\n",
        "# include \"qelib1.inc\";\n",
        "# qreg q[3];\n",
        "# creg c[3];\n",
        "\n",
        "# // Inputs: q[0], q[1]\n",
        "# // Output: q[2] (AND of q[0] and q[1])\n",
        "\n",
        "# // Initialize q[2] to 0\n",
        "# // (This is usually the default state)\n",
        "\n",
        "# ccx q[0],q[1],q[2];\n",
        "\n",
        "# measure q[0] -> c[0];\n",
        "# measure q[1] -> c[1];\n",
        "# measure q[2] -> c[2];"
      ],
      "cell_type": "code",
      "metadata": {
        "id": "vzc1FUu-H6NO"
      },
      "execution_count": null,
      "outputs": []
    },
    {
      "cell_type": "markdown",
      "source": [
        "TOFOLLI AS NOT"
      ],
      "metadata": {
        "id": "7mcEVlJbICjl"
      }
    },
    {
      "source": [
        "# qasm\n",
        "# OPENQASM 2.0;\n",
        "# include \"qelib1.inc\";\n",
        "# qreg q[3];\n",
        "# creg c[3];\n",
        "\n",
        "# // Input: q[0]\n",
        "# // Output: q[2] (NOT of q[0])\n",
        "\n",
        "# // Set q[1] to 1\n",
        "# x q[1];\n",
        "\n",
        "# ccx q[0],q[1],q[2];\n",
        "\n",
        "# measure q[0] -> c[0];\n",
        "# measure q[1] -> c[1];\n",
        "# measure q[2] -> c[2];"
      ],
      "cell_type": "code",
      "metadata": {
        "id": "sHVXETGsIBb3"
      },
      "execution_count": null,
      "outputs": []
    },
    {
      "cell_type": "markdown",
      "source": [
        "SECTION - 4"
      ],
      "metadata": {
        "id": "onD2WeRXH7kI"
      }
    },
    {
      "source": [
        "# qasm\n",
        "# OPENQASM 2.0;\n",
        "# include \"qelib1.inc\";\n",
        "# qreg q[3];\n",
        "# creg c[3];\n",
        "\n",
        "# // Inputs: q[0], q[1]\n",
        "# // Outputs: q[2] (Sum), q[1] (Carry)\n",
        "\n",
        "# // CNOT for Sum\n",
        "# cx q[0],q[2];\n",
        "\n",
        "# // Toffoli for Carry\n",
        "# ccx q[0],q[1],q[2];\n",
        "\n",
        "# //Another CNOT for Carry\n",
        "# cx q[0], q[1];\n",
        "\n",
        "# measure q[0] -> c[0];\n",
        "# measure q[1] -> c[1];\n",
        "# measure q[2] -> c[2];"
      ],
      "cell_type": "code",
      "metadata": {
        "id": "Lbkz3o3vIJP_"
      },
      "execution_count": null,
      "outputs": []
    }
  ]
}
