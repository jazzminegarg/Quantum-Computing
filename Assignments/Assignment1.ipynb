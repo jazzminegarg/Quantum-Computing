{
  "nbformat": 4,
  "nbformat_minor": 0,
  "metadata": {
    "colab": {
      "provenance": [],
      "authorship_tag": "ABX9TyPfy8FAPyGYbhjUe2bwBFHO",
      "include_colab_link": true
    },
    "kernelspec": {
      "name": "python3",
      "display_name": "Python 3"
    },
    "language_info": {
      "name": "python"
    }
  },
  "cells": [
    {
      "cell_type": "markdown",
      "metadata": {
        "id": "view-in-github",
        "colab_type": "text"
      },
      "source": [
        "<a href=\"https://colab.research.google.com/github/jazzminegarg/Quantum-Computing/blob/main/Assignments/Assignment1.ipynb\" target=\"_parent\"><img src=\"https://colab.research.google.com/assets/colab-badge.svg\" alt=\"Open In Colab\"/></a>"
      ]
    },
    {
      "cell_type": "markdown",
      "source": [
        "Q1."
      ],
      "metadata": {
        "id": "cQYXOoTZ7qCD"
      }
    },
    {
      "cell_type": "code",
      "execution_count": 1,
      "metadata": {
        "colab": {
          "base_uri": "https://localhost:8080/"
        },
        "id": "cvY49FUV65p-",
        "outputId": "db808034-79c1-43b9-e837-55335d3dc16b"
      },
      "outputs": [
        {
          "output_type": "stream",
          "name": "stdout",
          "text": [
            "Is the vector normalized? True\n",
            "Length of the vector: 0.9999999999999999\n"
          ]
        }
      ],
      "source": [
        "import numpy as np\n",
        "import math\n",
        "\n",
        "a = 1 / math.sqrt(2)\n",
        "b = 1 / math.sqrt(2)\n",
        "\n",
        "vector = np.array([a, b])\n",
        "\n",
        "is_normalized = np.isclose(np.sum(vector**2), 1)\n",
        "print(f\"Is the vector normalized? {is_normalized}\")\n",
        "\n",
        "vector_length = np.linalg.norm(vector)\n",
        "print(f\"Length of the vector: {vector_length}\")"
      ]
    },
    {
      "cell_type": "markdown",
      "source": [
        "Q2\n"
      ],
      "metadata": {
        "id": "qfKDuKqb7yy8"
      }
    },
    {
      "cell_type": "code",
      "source": [
        "import numpy as np\n",
        "\n",
        "num_elements = int(input(\"Enter the number of elements in the vector: \"))\n",
        "elements = []\n",
        "\n",
        "for i in range(num_elements):\n",
        "  element = float(input(f\"Enter element {i + 1}: \"))\n",
        "  elements.append(element)\n",
        "\n",
        "vector = np.array(elements)\n",
        "\n",
        "print(\"The vector is:\", vector)\n",
        "\n",
        "def is_normalized(vector):\n",
        "  return np.isclose(np.sum(vector**2), 1)\n",
        "\n",
        "def dot_product(vector1, vector2):\n",
        "  return np.dot(vector1, vector2)\n",
        "\n",
        "def cross_product(vector1, vector2):\n",
        "  return np.cross(vector1, vector2)\n",
        "\n",
        "def unit_vector(vector):\n",
        "  return vector / np.linalg.norm(vector)"
      ],
      "metadata": {
        "colab": {
          "base_uri": "https://localhost:8080/"
        },
        "id": "vVB4IBJ87uMQ",
        "outputId": "d1c4f732-58d3-4a70-92a5-1d2198803390"
      },
      "execution_count": 2,
      "outputs": [
        {
          "output_type": "stream",
          "name": "stdout",
          "text": [
            "Enter the number of elements in the vector: 5\n",
            "Enter element 1: 2\n",
            "Enter element 2: 3\n",
            "Enter element 3: 4\n",
            "Enter element 4: 6\n",
            "Enter element 5: 1\n",
            "The vector is: [2. 3. 4. 6. 1.]\n"
          ]
        }
      ]
    },
    {
      "cell_type": "markdown",
      "source": [
        "Q3."
      ],
      "metadata": {
        "id": "JVK3HkmG8N96"
      }
    },
    {
      "source": [
        "31\n",
        "import numpy as np\n",
        "\n",
        "def get_matrix_from_keyboard():\n",
        "  rows = int(input(\"Enter the number of rows: \"))\n",
        "  cols = int(input(\"Enter the number of columns: \"))\n",
        "  matrix = []\n",
        "  for i in range(rows):\n",
        "    row = []\n",
        "    for j in range(cols):\n",
        "      element = float(input(f\"Enter element ({i + 1}, {j + 1}): \"))\n",
        "      row.append(element)\n",
        "    matrix.append(row)\n",
        "  return np.array(matrix)\n",
        "\n",
        "matrix = get_matrix_from_keyboard()\n",
        "print(\"Matrix:\")\n",
        "print(matrix)\n",
        "\n",
        "transpose = matrix.T\n",
        "print(\"\\nTranspose:\")\n",
        "print(transpose)\n",
        "\n",
        "determinant = np.linalg.det(matrix)\n",
        "print(\"\\nDeterminant:\", determinant)\n",
        "\n",
        "rank = np.linalg.matrix_rank(matrix)\n",
        "print(\"\\nRank:\", rank)\n",
        "\n",
        "trace = np.trace(matrix)\n",
        "print(\"\\nTrace:\", trace)\n",
        "\n",
        "eigenvalues, eigenvectors = np.linalg.eig(matrix)\n",
        "print(\"\\nEigenvalues:\", eigenvalues)\n",
        "print(\"\\nEigenvectors:\")\n",
        "print(eigenvectors)\n",
        "\n",
        "inverse = np.linalg.inv(matrix)\n",
        "print(\"\\nInverse:\")\n",
        "print(inverse)"
      ],
      "cell_type": "code",
      "metadata": {
        "colab": {
          "base_uri": "https://localhost:8080/"
        },
        "id": "Xu-frHNN8bY3",
        "outputId": "297ead4f-5e3f-4274-a562-7ec7ae65b5a2"
      },
      "execution_count": 6,
      "outputs": [
        {
          "output_type": "stream",
          "name": "stdout",
          "text": [
            "Enter the number of rows: 1\n",
            "Enter the number of columns: 1\n",
            "Enter element (1, 1): 1\n",
            "Matrix:\n",
            "[[1.]]\n",
            "\n",
            "Transpose:\n",
            "[[1.]]\n",
            "\n",
            "Determinant: 1.0\n",
            "\n",
            "Rank: 1\n",
            "\n",
            "Trace: 1.0\n",
            "\n",
            "Eigenvalues: [1.]\n",
            "\n",
            "Eigenvectors:\n",
            "[[1.]]\n",
            "\n",
            "Inverse:\n",
            "[[1.]]\n"
          ]
        }
      ]
    },
    {
      "cell_type": "markdown",
      "source": [
        "Q4.\n"
      ],
      "metadata": {
        "id": "2KZCB1st8uYL"
      }
    },
    {
      "source": [
        "complex_num = complex(input(\"Enter a complex number (e.g., 3+4j): \"))\n",
        "\n",
        "conjugate = complex_num.conjugate()\n",
        "print(\"Conjugate:\", conjugate)\n",
        "\n",
        "num1 = complex(input(\"Enter the first complex number: \"))\n",
        "num2 = complex(input(\"Enter the second complex number: \"))\n",
        "\n",
        "addition = num1 + num2\n",
        "print(\"Addition:\", addition)\n",
        "\n",
        "subtraction = num1 - num2\n",
        "print(\"Subtraction:\", subtraction)\n",
        "\n",
        "multiplication = num1 * num2\n",
        "print(\"Multiplication:\", multiplication)\n",
        "\n",
        "division = num1 / num2\n",
        "print(\"Division:\", division)\n",
        "\n",
        "magnitude = abs(complex_num)\n",
        "print(\"Magnitude:\", magnitude)"
      ],
      "cell_type": "code",
      "metadata": {
        "colab": {
          "base_uri": "https://localhost:8080/"
        },
        "id": "AvnRfGbd8wLP",
        "outputId": "5fbb7cc0-3ec1-4fcb-c6a3-60be52d30ced"
      },
      "execution_count": 7,
      "outputs": [
        {
          "output_type": "stream",
          "name": "stdout",
          "text": [
            "Enter a complex number (e.g., 3+4j): 3+4j\n",
            "Conjugate: (3-4j)\n",
            "Enter the first complex number: 2-3j\n",
            "Enter the second complex number: 2\n",
            "Addition: (4-3j)\n",
            "Subtraction: -3j\n",
            "Multiplication: (4-6j)\n",
            "Division: (1-1.5j)\n",
            "Magnitude: 5.0\n"
          ]
        }
      ]
    }
  ]
}