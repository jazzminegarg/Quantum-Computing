{
  "nbformat": 4,
  "nbformat_minor": 0,
  "metadata": {
    "colab": {
      "provenance": [],
      "authorship_tag": "ABX9TyN2kz7+0mHFwZG1u2a4E/nu",
      "include_colab_link": true
    },
    "kernelspec": {
      "name": "python3",
      "display_name": "Python 3"
    },
    "language_info": {
      "name": "python"
    }
  },
  "cells": [
    {
      "cell_type": "markdown",
      "metadata": {
        "id": "view-in-github",
        "colab_type": "text"
      },
      "source": [
        "<a href=\"https://colab.research.google.com/github/jazzminegarg/Quantum-Computing/blob/main/Assignments/Assignment4.ipynb\" target=\"_parent\"><img src=\"https://colab.research.google.com/assets/colab-badge.svg\" alt=\"Open In Colab\"/></a>"
      ]
    },
    {
      "cell_type": "markdown",
      "source": [
        "SECTION - 1"
      ],
      "metadata": {
        "id": "8zPNNbikGvZj"
      }
    },
    {
      "source": [
        "# qasm\n",
        "# OPENQASM 2.0;\n",
        "# include \"qelib1.inc\";\n",
        "\n",
        "# qreg q[3];\n",
        "# creg c[3];\n",
        "\n",
        "# // Initialize control qubit to 1 and target qubits to 0 and 1\n",
        "# x q[0];\n",
        "# x q[2];\n",
        "\n",
        "# // Apply Fredkin gate (CSWAP)\n",
        "# cswap q[0], q[1], q[2];\n",
        "\n",
        "# // Measure the target qubit (q[1]) which should now hold the AND result\n",
        "# measure q[1] -> c[1];"
      ],
      "cell_type": "code",
      "metadata": {
        "id": "AG-rGiydGpKp"
      },
      "execution_count": null,
      "outputs": []
    },
    {
      "cell_type": "markdown",
      "source": [
        "SECTION - 2"
      ],
      "metadata": {
        "id": "K9f35ohfGzBQ"
      }
    },
    {
      "source": [
        "# qasm\n",
        "# OPENQASM 2.0;\n",
        "# include \"qelib1.inc\";\n",
        "\n",
        "# qreg q[3];\n",
        "# creg c[3];\n",
        "\n",
        "# // Initialize control qubit to 1 and target qubit to the input\n",
        "# x q[0];\n",
        "# // If you want to apply NOT to 1, set q[1] to 1 using x q[1];\n",
        "\n",
        "# // Apply Fredkin gate (CSWAP) with q[2] as an ancilla qubit in state |1>\n",
        "# x q[2];\n",
        "# cswap q[0], q[1], q[2];\n",
        "\n",
        "# // Measure the target qubit (q[1]) which should now hold the NOT result\n",
        "# measure q[1] -> c[1];"
      ],
      "cell_type": "code",
      "metadata": {
        "id": "9iBtn1KsG1PJ"
      },
      "execution_count": null,
      "outputs": []
    },
    {
      "cell_type": "markdown",
      "source": [
        "SECTION - 3"
      ],
      "metadata": {
        "id": "Ul2pa3sMG2fI"
      }
    },
    {
      "source": [
        "# qasm\n",
        "# OPENQASM 2.0;\n",
        "# include \"qelib1.inc\";\n",
        "\n",
        "# qreg q[3];\n",
        "# creg c[3];\n",
        "\n",
        "# // Initialize qubits to arbitrary states (example: |101>)\n",
        "# x q[0];\n",
        "# x q[2];\n",
        "\n",
        "# // Apply CSWAP twice\n",
        "# cswap q[0], q[1], q[2];\n",
        "# cswap q[0], q[1], q[2];\n",
        "\n",
        "# // Measure all qubits\n",
        "# measure q[0] -> c[0];\n",
        "# measure q[1] -> c[1];\n",
        "# measure q[2] -> c[2];"
      ],
      "cell_type": "code",
      "metadata": {
        "id": "KvniGVWqG4XJ"
      },
      "execution_count": null,
      "outputs": []
    },
    {
      "cell_type": "markdown",
      "source": [
        "SECTION - 4"
      ],
      "metadata": {
        "id": "aT9U8nMpG5vp"
      }
    },
    {
      "source": [
        "# qasm\n",
        "# OPENQASM 2.0;\n",
        "# include \"qelib1.inc\";\n",
        "\n",
        "# qreg q[1];\n",
        "# creg c[1];\n",
        "\n",
        "# // Apply X gate twice\n",
        "# x q[0];\n",
        "# x q[0];\n",
        "\n",
        "# // Measure the qubit\n",
        "# measure q[0] -> c[0];"
      ],
      "cell_type": "code",
      "metadata": {
        "id": "vwY3G1peG7cl"
      },
      "execution_count": null,
      "outputs": []
    },
    {
      "cell_type": "markdown",
      "source": [
        "SECTION - 5"
      ],
      "metadata": {
        "id": "pwjefUK3G8qd"
      }
    },
    {
      "source": [
        "from qiskit import QuantumCircuit, Aer, execute\n",
        "from qiskit.visualization import plot_histogram\n",
        "import numpy as np\n",
        "\n",
        "# 1. State vector with 1/3 probability of measuring |0⟩\n",
        "qc1 = QuantumCircuit(1)\n",
        "initial_state1 = [np.sqrt(1/3), np.sqrt(2/3)]\n",
        "qc1.initialize(initial_state1, 0)\n",
        "\n",
        "# 2. Different state vector with same measurement probabilities\n",
        "qc2 = QuantumCircuit(1)\n",
        "initial_state2 = [np.sqrt(1/3), -np.sqrt(2/3)]\n",
        "qc2.initialize(initial_state2, 0)\n",
        "\n",
        "# Simulate and get probabilities\n",
        "simulator = Aer.get_backend('statevector_simulator')\n",
        "result1 = execute(qc1, simulator).result()\n",
        "statevector1 = result1.get_statevector(qc1)\n",
        "\n",
        "result2 = execute(qc2, simulator).result()\n",
        "statevector2 = result2.get_statevector(qc2)\n",
        "\n",
        "# 3. Verify probabilities\n",
        "prob_0_state1 = np.abs(statevector1[0])**2  # Probability of |0⟩ for state 1\n",
        "prob_1_state1 = np.abs(statevector1[1])**2  # Probability of |1⟩ for state 1\n",
        "\n",
        "prob_0_state2 = np.abs(statevector2[0])**2  # Probability of |0⟩ for state 2\n",
        "prob_1_state2 = np.abs(statevector2[1])**2  # Probability of |1⟩ for state 2\n",
        "\n",
        "print(\"Probability of |0⟩ for state 1:\", prob_0_state1)\n",
        "print(\"Probability of |1⟩ for state 1:\", prob_1_state1)\n",
        "print(\"Probability of |0⟩ for state 2:\", prob_0_state2)\n",
        "print(\"Probability of |1⟩ for state 2:\", prob_1_state2)"
      ],
      "cell_type": "code",
      "metadata": {
        "id": "xeEqRD4wG-sL"
      },
      "execution_count": null,
      "outputs": []
    }
  ]
}