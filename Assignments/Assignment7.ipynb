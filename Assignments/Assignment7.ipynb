{
  "nbformat": 4,
  "nbformat_minor": 0,
  "metadata": {
    "colab": {
      "provenance": [],
      "authorship_tag": "ABX9TyPiNYhLnwO71AC+VF0JB/5Y",
      "include_colab_link": true
    },
    "kernelspec": {
      "name": "python3",
      "display_name": "Python 3"
    },
    "language_info": {
      "name": "python"
    }
  },
  "cells": [
    {
      "cell_type": "markdown",
      "metadata": {
        "id": "view-in-github",
        "colab_type": "text"
      },
      "source": [
        "<a href=\"https://colab.research.google.com/github/jazzminegarg/Quantum-Computing/blob/main/Assignments/Assignment7.ipynb\" target=\"_parent\"><img src=\"https://colab.research.google.com/assets/colab-badge.svg\" alt=\"Open In Colab\"/></a>"
      ]
    },
    {
      "cell_type": "code",
      "execution_count": 1,
      "metadata": {
        "colab": {
          "base_uri": "https://localhost:8080/",
          "height": 1000
        },
        "id": "idiV_Fj79b1c",
        "outputId": "42b85301-a207-4e63-c89f-20defd1ca71b"
      },
      "outputs": [
        {
          "output_type": "stream",
          "name": "stdout",
          "text": [
            "Collecting qiskit==0.43.2\n",
            "  Downloading qiskit-0.43.2.tar.gz (9.1 kB)\n",
            "  Installing build dependencies ... \u001b[?25l\u001b[?25hdone\n",
            "  Getting requirements to build wheel ... \u001b[?25l\u001b[?25hdone\n",
            "  Preparing metadata (pyproject.toml) ... \u001b[?25l\u001b[?25hdone\n",
            "Collecting qiskit-terra==0.24.1 (from qiskit==0.43.2)\n",
            "  Downloading qiskit_terra-0.24.1-cp311-cp311-manylinux_2_17_x86_64.manylinux2014_x86_64.whl.metadata (9.6 kB)\n",
            "Collecting qiskit-aer==0.12.1 (from qiskit==0.43.2)\n",
            "  Downloading qiskit_aer-0.12.1-cp311-cp311-manylinux_2_17_x86_64.manylinux2014_x86_64.whl.metadata (6.2 kB)\n",
            "Collecting qiskit-ibmq-provider==0.20.2 (from qiskit==0.43.2)\n",
            "  Downloading qiskit_ibmq_provider-0.20.2-py3-none-any.whl.metadata (14 kB)\n",
            "Requirement already satisfied: numpy>=1.16.3 in /usr/local/lib/python3.11/dist-packages (from qiskit-aer==0.12.1->qiskit==0.43.2) (2.0.2)\n",
            "Requirement already satisfied: scipy>=1.0 in /usr/local/lib/python3.11/dist-packages (from qiskit-aer==0.12.1->qiskit==0.43.2) (1.14.1)\n",
            "Requirement already satisfied: requests>=2.19 in /usr/local/lib/python3.11/dist-packages (from qiskit-ibmq-provider==0.20.2->qiskit==0.43.2) (2.32.3)\n",
            "Collecting requests-ntlm<=1.1.0 (from qiskit-ibmq-provider==0.20.2->qiskit==0.43.2)\n",
            "  Downloading requests_ntlm-1.1.0-py2.py3-none-any.whl.metadata (938 bytes)\n",
            "Collecting numpy>=1.16.3 (from qiskit-aer==0.12.1->qiskit==0.43.2)\n",
            "  Downloading numpy-1.23.5-cp311-cp311-manylinux_2_17_x86_64.manylinux2014_x86_64.whl.metadata (2.3 kB)\n",
            "Requirement already satisfied: urllib3>=1.21.1 in /usr/local/lib/python3.11/dist-packages (from qiskit-ibmq-provider==0.20.2->qiskit==0.43.2) (2.3.0)\n",
            "Requirement already satisfied: python-dateutil>=2.8.0 in /usr/local/lib/python3.11/dist-packages (from qiskit-ibmq-provider==0.20.2->qiskit==0.43.2) (2.8.2)\n",
            "Requirement already satisfied: websocket-client>=1.5.1 in /usr/local/lib/python3.11/dist-packages (from qiskit-ibmq-provider==0.20.2->qiskit==0.43.2) (1.8.0)\n",
            "Requirement already satisfied: websockets>=10.0 in /usr/local/lib/python3.11/dist-packages (from qiskit-ibmq-provider==0.20.2->qiskit==0.43.2) (15.0.1)\n",
            "Collecting rustworkx>=0.12.0 (from qiskit-terra==0.24.1->qiskit==0.43.2)\n",
            "  Downloading rustworkx-0.16.0-cp39-abi3-manylinux_2_17_x86_64.manylinux2014_x86_64.whl.metadata (10 kB)\n",
            "Requirement already satisfied: ply>=3.10 in /usr/local/lib/python3.11/dist-packages (from qiskit-terra==0.24.1->qiskit==0.43.2) (3.11)\n",
            "Requirement already satisfied: psutil>=5 in /usr/local/lib/python3.11/dist-packages (from qiskit-terra==0.24.1->qiskit==0.43.2) (5.9.5)\n",
            "Requirement already satisfied: sympy>=1.3 in /usr/local/lib/python3.11/dist-packages (from qiskit-terra==0.24.1->qiskit==0.43.2) (1.13.1)\n",
            "Collecting dill>=0.3 (from qiskit-terra==0.24.1->qiskit==0.43.2)\n",
            "  Downloading dill-0.4.0-py3-none-any.whl.metadata (10 kB)\n",
            "Collecting stevedore>=3.0.0 (from qiskit-terra==0.24.1->qiskit==0.43.2)\n",
            "  Downloading stevedore-5.4.1-py3-none-any.whl.metadata (2.3 kB)\n",
            "Collecting symengine<0.10,>=0.9 (from qiskit-terra==0.24.1->qiskit==0.43.2)\n",
            "  Downloading symengine-0.9.2-cp311-cp311-manylinux_2_12_x86_64.manylinux2010_x86_64.whl.metadata (1.1 kB)\n",
            "Requirement already satisfied: six>=1.5 in /usr/local/lib/python3.11/dist-packages (from python-dateutil>=2.8.0->qiskit-ibmq-provider==0.20.2->qiskit==0.43.2) (1.17.0)\n",
            "Requirement already satisfied: charset-normalizer<4,>=2 in /usr/local/lib/python3.11/dist-packages (from requests>=2.19->qiskit-ibmq-provider==0.20.2->qiskit==0.43.2) (3.4.1)\n",
            "Requirement already satisfied: idna<4,>=2.5 in /usr/local/lib/python3.11/dist-packages (from requests>=2.19->qiskit-ibmq-provider==0.20.2->qiskit==0.43.2) (3.10)\n",
            "Requirement already satisfied: certifi>=2017.4.17 in /usr/local/lib/python3.11/dist-packages (from requests>=2.19->qiskit-ibmq-provider==0.20.2->qiskit==0.43.2) (2025.1.31)\n",
            "Collecting ntlm-auth>=1.0.2 (from requests-ntlm<=1.1.0->qiskit-ibmq-provider==0.20.2->qiskit==0.43.2)\n",
            "  Downloading ntlm_auth-1.5.0-py2.py3-none-any.whl.metadata (10 kB)\n",
            "Requirement already satisfied: cryptography>=1.3 in /usr/local/lib/python3.11/dist-packages (from requests-ntlm<=1.1.0->qiskit-ibmq-provider==0.20.2->qiskit==0.43.2) (43.0.3)\n",
            "Collecting pbr>=2.0.0 (from stevedore>=3.0.0->qiskit-terra==0.24.1->qiskit==0.43.2)\n",
            "  Downloading pbr-6.1.1-py2.py3-none-any.whl.metadata (3.4 kB)\n",
            "Requirement already satisfied: mpmath<1.4,>=1.1.0 in /usr/local/lib/python3.11/dist-packages (from sympy>=1.3->qiskit-terra==0.24.1->qiskit==0.43.2) (1.3.0)\n",
            "Requirement already satisfied: cffi>=1.12 in /usr/local/lib/python3.11/dist-packages (from cryptography>=1.3->requests-ntlm<=1.1.0->qiskit-ibmq-provider==0.20.2->qiskit==0.43.2) (1.17.1)\n",
            "Requirement already satisfied: setuptools in /usr/local/lib/python3.11/dist-packages (from pbr>=2.0.0->stevedore>=3.0.0->qiskit-terra==0.24.1->qiskit==0.43.2) (75.2.0)\n",
            "Requirement already satisfied: pycparser in /usr/local/lib/python3.11/dist-packages (from cffi>=1.12->cryptography>=1.3->requests-ntlm<=1.1.0->qiskit-ibmq-provider==0.20.2->qiskit==0.43.2) (2.22)\n",
            "Downloading qiskit_aer-0.12.1-cp311-cp311-manylinux_2_17_x86_64.manylinux2014_x86_64.whl (12.8 MB)\n",
            "\u001b[2K   \u001b[90m━━━━━━━━━━━━━━━━━━━━━━━━━━━━━━━━━━━━━━━━\u001b[0m \u001b[32m12.8/12.8 MB\u001b[0m \u001b[31m61.2 MB/s\u001b[0m eta \u001b[36m0:00:00\u001b[0m\n",
            "\u001b[?25hDownloading qiskit_ibmq_provider-0.20.2-py3-none-any.whl (241 kB)\n",
            "\u001b[2K   \u001b[90m━━━━━━━━━━━━━━━━━━━━━━━━━━━━━━━━━━━━━━━━\u001b[0m \u001b[32m241.5/241.5 kB\u001b[0m \u001b[31m15.0 MB/s\u001b[0m eta \u001b[36m0:00:00\u001b[0m\n",
            "\u001b[?25hDownloading qiskit_terra-0.24.1-cp311-cp311-manylinux_2_17_x86_64.manylinux2014_x86_64.whl (5.9 MB)\n",
            "\u001b[2K   \u001b[90m━━━━━━━━━━━━━━━━━━━━━━━━━━━━━━━━━━━━━━━━\u001b[0m \u001b[32m5.9/5.9 MB\u001b[0m \u001b[31m71.4 MB/s\u001b[0m eta \u001b[36m0:00:00\u001b[0m\n",
            "\u001b[?25hDownloading dill-0.4.0-py3-none-any.whl (119 kB)\n",
            "\u001b[2K   \u001b[90m━━━━━━━━━━━━━━━━━━━━━━━━━━━━━━━━━━━━━━━━\u001b[0m \u001b[32m119.7/119.7 kB\u001b[0m \u001b[31m8.6 MB/s\u001b[0m eta \u001b[36m0:00:00\u001b[0m\n",
            "\u001b[?25hDownloading numpy-1.23.5-cp311-cp311-manylinux_2_17_x86_64.manylinux2014_x86_64.whl (17.1 MB)\n",
            "\u001b[2K   \u001b[90m━━━━━━━━━━━━━━━━━━━━━━━━━━━━━━━━━━━━━━━━\u001b[0m \u001b[32m17.1/17.1 MB\u001b[0m \u001b[31m67.0 MB/s\u001b[0m eta \u001b[36m0:00:00\u001b[0m\n",
            "\u001b[?25hDownloading requests_ntlm-1.1.0-py2.py3-none-any.whl (5.7 kB)\n",
            "Downloading rustworkx-0.16.0-cp39-abi3-manylinux_2_17_x86_64.manylinux2014_x86_64.whl (2.1 MB)\n",
            "\u001b[2K   \u001b[90m━━━━━━━━━━━━━━━━━━━━━━━━━━━━━━━━━━━━━━━━\u001b[0m \u001b[32m2.1/2.1 MB\u001b[0m \u001b[31m49.0 MB/s\u001b[0m eta \u001b[36m0:00:00\u001b[0m\n",
            "\u001b[?25hDownloading stevedore-5.4.1-py3-none-any.whl (49 kB)\n",
            "\u001b[2K   \u001b[90m━━━━━━━━━━━━━━━━━━━━━━━━━━━━━━━━━━━━━━━━\u001b[0m \u001b[32m49.5/49.5 kB\u001b[0m \u001b[31m3.0 MB/s\u001b[0m eta \u001b[36m0:00:00\u001b[0m\n",
            "\u001b[?25hDownloading symengine-0.9.2-cp311-cp311-manylinux_2_12_x86_64.manylinux2010_x86_64.whl (38.6 MB)\n",
            "\u001b[2K   \u001b[90m━━━━━━━━━━━━━━━━━━━━━━━━━━━━━━━━━━━━━━━━\u001b[0m \u001b[32m38.6/38.6 MB\u001b[0m \u001b[31m25.3 MB/s\u001b[0m eta \u001b[36m0:00:00\u001b[0m\n",
            "\u001b[?25hDownloading ntlm_auth-1.5.0-py2.py3-none-any.whl (29 kB)\n",
            "Downloading pbr-6.1.1-py2.py3-none-any.whl (108 kB)\n",
            "\u001b[2K   \u001b[90m━━━━━━━━━━━━━━━━━━━━━━━━━━━━━━━━━━━━━━━━\u001b[0m \u001b[32m109.0/109.0 kB\u001b[0m \u001b[31m8.7 MB/s\u001b[0m eta \u001b[36m0:00:00\u001b[0m\n",
            "\u001b[?25hBuilding wheels for collected packages: qiskit\n",
            "  Building wheel for qiskit (pyproject.toml) ... \u001b[?25l\u001b[?25hdone\n",
            "  Created wheel for qiskit: filename=qiskit-0.43.2-py3-none-any.whl size=7754 sha256=4cfc63ac572b399d7d12a511aa751ecb3432e22c128d45ec7dc9aa5f7259823d\n",
            "  Stored in directory: /root/.cache/pip/wheels/b8/ca/bc/9869caae2195568d92b599bfc9b89d1059bdc84b4b74e1fc31\n",
            "Successfully built qiskit\n",
            "Installing collected packages: symengine, pbr, numpy, ntlm-auth, dill, stevedore, rustworkx, requests-ntlm, qiskit-terra, qiskit-ibmq-provider, qiskit-aer, qiskit\n",
            "  Attempting uninstall: numpy\n",
            "    Found existing installation: numpy 2.0.2\n",
            "    Uninstalling numpy-2.0.2:\n",
            "      Successfully uninstalled numpy-2.0.2\n",
            "\u001b[31mERROR: pip's dependency resolver does not currently take into account all the packages that are installed. This behaviour is the source of the following dependency conflicts.\n",
            "thinc 8.3.6 requires numpy<3.0.0,>=2.0.0, but you have numpy 1.23.5 which is incompatible.\n",
            "chex 0.1.89 requires numpy>=1.24.1, but you have numpy 1.23.5 which is incompatible.\n",
            "xarray 2025.1.2 requires numpy>=1.24, but you have numpy 1.23.5 which is incompatible.\n",
            "bigframes 1.42.0 requires numpy>=1.24.0, but you have numpy 1.23.5 which is incompatible.\n",
            "albumentations 2.0.5 requires numpy>=1.24.4, but you have numpy 1.23.5 which is incompatible.\n",
            "scikit-image 0.25.2 requires numpy>=1.24, but you have numpy 1.23.5 which is incompatible.\n",
            "jax 0.5.2 requires numpy>=1.25, but you have numpy 1.23.5 which is incompatible.\n",
            "albucore 0.0.23 requires numpy>=1.24.4, but you have numpy 1.23.5 which is incompatible.\n",
            "blosc2 3.3.0 requires numpy>=1.26, but you have numpy 1.23.5 which is incompatible.\n",
            "jaxlib 0.5.1 requires numpy>=1.25, but you have numpy 1.23.5 which is incompatible.\n",
            "treescope 0.1.9 requires numpy>=1.25.2, but you have numpy 1.23.5 which is incompatible.\n",
            "imbalanced-learn 0.13.0 requires numpy<3,>=1.24.3, but you have numpy 1.23.5 which is incompatible.\n",
            "pymc 5.21.2 requires numpy>=1.25.0, but you have numpy 1.23.5 which is incompatible.\n",
            "tensorflow 2.18.0 requires numpy<2.1.0,>=1.26.0, but you have numpy 1.23.5 which is incompatible.\u001b[0m\u001b[31m\n",
            "\u001b[0mSuccessfully installed dill-0.4.0 ntlm-auth-1.5.0 numpy-1.23.5 pbr-6.1.1 qiskit-0.43.2 qiskit-aer-0.12.1 qiskit-ibmq-provider-0.20.2 qiskit-terra-0.24.1 requests-ntlm-1.1.0 rustworkx-0.16.0 stevedore-5.4.1 symengine-0.9.2\n"
          ]
        },
        {
          "output_type": "display_data",
          "data": {
            "application/vnd.colab-display-data+json": {
              "pip_warning": {
                "packages": [
                  "numpy"
                ]
              },
              "id": "e07a7873883e4cd5860542fb5c6463ac"
            }
          },
          "metadata": {}
        }
      ],
      "source": [
        "!pip install qiskit==0.43.2"
      ]
    },
    {
      "cell_type": "code",
      "source": [
        "from qiskit import QuantumCircuit, Aer, execute\n",
        "from qiskit.visualization import plot_histogram"
      ],
      "metadata": {
        "id": "RcpJ11Ks9pTJ"
      },
      "execution_count": 1,
      "outputs": []
    },
    {
      "cell_type": "code",
      "source": [
        "import numpy as np"
      ],
      "metadata": {
        "id": "gCzg8HU09uE1"
      },
      "execution_count": 2,
      "outputs": []
    },
    {
      "cell_type": "code",
      "source": [
        "qc_quantum = QuantumCircuit(1, 1)  # Create a quantum circuit with 1 qubit and 1 classical bit\n",
        "qc_quantum.h(0)  # Apply Hadamard gate to create superposition\n",
        "qc_quantum.measure(0, 0)  # Measure the qubit\n",
        "\n",
        "# Simulate the circuit\n",
        "simulator = Aer.get_backend('qasm_simulator')\n",
        "job = execute(qc_quantum, simulator, shots=1000)  # Execute the circuit 1000 times\n",
        "result = job.result()\n",
        "counts = result.get_counts(qc_quantum)\n",
        "\n",
        "# Display the results\n",
        "print(\"Quantum Coin Game Results:\")\n",
        "print(counts)  # To see the output, run the code.\n",
        "plot_histogram(counts)  # To see the output, run the code.\n",
        "\n",
        "# Classical Coin Toss Game (for comparison)\n",
        "import random\n",
        "classical_results = {'0': 0, '1': 0}\n",
        "for _ in range(1000):\n",
        "    result = random.randint(0, 1)\n",
        "    classical_results[str(result)] += 1\n",
        "\n",
        "print(\"\\nClassical Coin Toss Results:\")\n",
        "print(classical_results)  # To see the output, run the code.\n",
        "plot_histogram(classical_results)  # To see the output, run the code."
      ],
      "metadata": {
        "colab": {
          "base_uri": "https://localhost:8080/",
          "height": 536
        },
        "id": "JMd2f4fM94DZ",
        "outputId": "7dd3f5ef-f519-496e-f375-17958deb7927"
      },
      "execution_count": 3,
      "outputs": [
        {
          "output_type": "stream",
          "name": "stdout",
          "text": [
            "Quantum Coin Game Results:\n",
            "{'0': 512, '1': 488}\n",
            "\n",
            "Classical Coin Toss Results:\n",
            "{'0': 498, '1': 502}\n"
          ]
        },
        {
          "output_type": "execute_result",
          "data": {
            "text/plain": [
              "<Figure size 700x500 with 1 Axes>"
            ],
            "image/png": "[encoded data removed]"
          },
          "metadata": {},
          "execution_count": 3
        }
      ]
    },
    {
      "cell_type": "markdown",
      "source": [
        "SECTION - 2\n"
      ],
      "metadata": {
        "id": "Exn5Mb32-VJu"
      }
    },
    {
      "cell_type": "code",
      "source": [
        "from qiskit.circuit.library import QFT\n",
        "from qiskit import transpile,assemble\n",
        "# Function to estimate pi\n",
        "def qpe_pi(n_counting_qubits, n_shots):\n",
        "    # Create the QuantumCircuit\n",
        "    qc = QuantumCircuit(n_counting_qubits + 1, n_counting_qubits)\n",
        "\n",
        "    # Initialize counting qubits to superposition\n",
        "    qc.h(range(n_counting_qubits))\n",
        "\n",
        "    # Apply controlled-U gate\n",
        "    qc.x(n_counting_qubits)  # Apply X to the target qubit\n",
        "    for i in range(n_counting_qubits):\n",
        "        qc.cp(np.pi / 2 ** i, i, n_counting_qubits)  # Controlled-U gate\n",
        "\n",
        "    # Apply Inverse Quantum Fourier Transform\n",
        "    qc.append(QFT(n_counting_qubits, inverse=True), range(n_counting_qubits))\n",
        "\n",
        "    # Measure the counting qubits\n",
        "    qc.measure(range(n_counting_qubits), range(n_counting_qubits))\n",
        "\n",
        "    # Execute the circuit\n",
        "    simulator = Aer.get_backend('qasm_simulator')\n",
        "    t_qc = transpile(qc, simulator)\n",
        "    qobj = assemble(t_qc, shots=n_shots)\n",
        "    job = simulator.run(qobj)\n",
        "    result = job.result()\n",
        "    counts = result.get_counts()\n",
        "\n",
        "    # Estimate pi\n",
        "    estimated_pi = 0\n",
        "    for key, value in counts.items():\n",
        "        decimal_value = int(key, 2) / (2 ** n_counting_qubits)\n",
        "        estimated_pi += decimal_value * value\n",
        "\n",
        "    estimated_pi /= n_shots\n",
        "    estimated_pi = estimated_pi * 2 * np.pi  # Since we used U = T, we need to multiply by 2*pi\n",
        "\n",
        "    return estimated_pi, counts\n",
        "\n",
        "# Example usage\n",
        "n_counting_qubits = 4\n",
        "n_shots = 1024\n",
        "estimated_pi, counts = qpe_pi(n_counting_qubits, n_shots)\n",
        "\n",
        "print(\"Estimated Pi:\", estimated_pi)  # To see the output, run the code.\n",
        "plot_histogram(counts)  # To see the output, run the code."
      ],
      "metadata": {
        "colab": {
          "base_uri": "https://localhost:8080/",
          "height": 555
        },
        "id": "B-dwzfNv-BVQ",
        "outputId": "aa704081-3e27-4549-b055-e694d2cd9dc2"
      },
      "execution_count": 6,
      "outputs": [
        {
          "output_type": "stream",
          "name": "stdout",
          "text": [
            "Estimated Pi: 3.213306255423447\n"
          ]
        },
        {
          "output_type": "stream",
          "name": "stderr",
          "text": [
            "<ipython-input-6-d33d25ddfcbc>:26: DeprecationWarning: Using a qobj for run() is deprecated as of qiskit-aer 0.9.0 and will be removed no sooner than 3 months from that release date. Transpiled circuits should now be passed directly using `backend.run(circuits, **run_options).\n",
            "  job = simulator.run(qobj)\n"
          ]
        },
        {
          "output_type": "execute_result",
          "data": {
            "text/plain": [
              "<Figure size 700x500 with 1 Axes>"
            ],
            "image/png": "[encoded data removed]"
          },
          "metadata": {},
          "execution_count": 6
        }
      ]
    },
    {
      "cell_type": "markdown",
      "source": [
        "SECTION - 3\n"
      ],
      "metadata": {
        "id": "eNPl6obd-tlH"
      }
    },
    {
      "cell_type": "code",
      "source": [
        "# Function to implement the Deutsch-Jozsa algorithm\n",
        "def deutsch_jozsa(oracle_type):\n",
        "    # Create a quantum circuit with 2 qubits and 1 classical bit\n",
        "    qc = QuantumCircuit(2, 1)\n",
        "\n",
        "    # Initialize qubits\n",
        "    qc.x(1)  # Apply X gate to the second qubit\n",
        "    qc.h(0)  # Apply Hadamard gate to the first qubit\n",
        "    qc.h(1)  # Apply Hadamard gate to the second qubit\n",
        "\n",
        "    # Apply the oracle\n",
        "    if oracle_type == 'constant':\n",
        "        # Constant oracle: Does nothing\n",
        "        pass\n",
        "    elif oracle_type == 'balanced':\n",
        "        # Balanced oracle: Applies CNOT gate\n",
        "        qc.cx(0, 1)\n",
        "\n",
        "    # Apply Hadamard gate to the first qubit\n",
        "    qc.h(0)\n",
        "\n",
        "    # Measure the first qubit\n",
        "    qc.measure(0, 0)\n",
        "\n",
        "    # Execute the circuit\n",
        "    simulator = Aer.get_backend('qasm_simulator')\n",
        "    job = execute(qc, simulator, shots=1024)\n",
        "    result = job.result()\n",
        "    counts = result.get_counts(qc)\n",
        "\n",
        "    return counts\n",
        "\n",
        "# Example usage\n",
        "constant_results = deutsch_jozsa('constant')\n",
        "balanced_results = deutsch_jozsa('balanced')\n",
        "\n",
        "print(\"Constant Oracle Results:\", constant_results)  # To see the output, run the code.\n",
        "print(\"Balanced Oracle Results:\", balanced_results)  # To see the output, run the code."
      ],
      "metadata": {
        "colab": {
          "base_uri": "https://localhost:8080/"
        },
        "id": "3SUpDzLU-vRm",
        "outputId": "7bcdb00e-b306-4047-d9ca-b23f897eafe1"
      },
      "execution_count": 7,
      "outputs": [
        {
          "output_type": "stream",
          "name": "stdout",
          "text": [
            "Constant Oracle Results: {'0': 1024}\n",
            "Balanced Oracle Results: {'1': 1024}\n"
          ]
        }
      ]
    }
  ]
}